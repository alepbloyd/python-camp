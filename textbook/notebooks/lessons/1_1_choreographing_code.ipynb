{
 "cells": [
  {
   "cell_type": "markdown",
   "metadata": {
    "id": "XvIHpi-hG-uT"
   },
   "source": [
    "# Choreographing Code"
   ]
  },
  {
   "cell_type": "markdown",
   "metadata": {},
   "source": [
    "### Objectives\n",
    "\n",
    "- To interact with bits of Python code as *actions* (which transform *inputs* to *outputs*). \n",
    "- To develop a conceptual model of basic elements of programming (variables, data structures, loops), with an emphasis on action over syntax.\n",
    "- To collaborate in understanding code.\n"
   ]
  },
  {
   "cell_type": "markdown",
   "metadata": {},
   "source": [
    "### Instructions\n",
    "\n",
    "This notebook contains a few cells of Python code. \n",
    "\n",
    "Your task, as a team, is as follows:\n",
    "\n",
    "1. Run each cell of code. \n",
    "2. Examine the output.\n",
    "3. Model the action that the code performs, using pen, paper, and sticky notes.\n",
    "\n",
    "To run each cell, place your cursor in the cell and press `Control` + `Enter` (or `Command` + `Return` on a Mac). The output of running the code will appear below the cell.\n",
    "\n",
    "Then we'll share our models for discussion in the larger group."
   ]
  },
  {
   "cell_type": "markdown",
   "metadata": {},
   "source": [
    "### Hints\n",
    "\n",
    "Below each cell and its output, you can find hints to help you understand what's going on. \n",
    "\n",
    "-----"
   ]
  },
  {
   "cell_type": "markdown",
   "metadata": {
    "tags": [
     "instructor",
     "remove-cell"
    ]
   },
   "source": [
    "### Set up\n",
    "\n",
    "- Instructors should model the first Action, introducing the following concepts:\n",
    "  - The function call `print()`, which instruct Python to take an action on the provided argument.\n",
    "  - The result of the function is output to the screen. \n",
    "- Show how to execute a cell of code in the notebook.\n",
    "- Explain that a given cell can be re-executed any number of times.\n",
    "- Model the action by writing the string on a piece of paper and displaying it. (The action is the displaying of it -- analagous to how the print function produces output.)"
   ]
  },
  {
   "cell_type": "markdown",
   "metadata": {},
   "source": [
    "### Action 1: Printing values"
   ]
  },
  {
   "cell_type": "code",
   "execution_count": 1,
   "metadata": {},
   "outputs": [
    {
     "name": "stdout",
     "output_type": "stream",
     "text": [
      "Welcome to Python Camp!\n"
     ]
    }
   ],
   "source": [
    "print(\"Welcome to Python Camp!\")"
   ]
  },
  {
   "cell_type": "markdown",
   "metadata": {},
   "source": [
    "### Action 2: Assigning names to values"
   ]
  },
  {
   "cell_type": "code",
   "execution_count": null,
   "metadata": {
    "colab": {
     "base_uri": "https://localhost:8080/"
    },
    "id": "27W5nGOiGqa-",
    "outputId": "c1cddc4c-a67d-40b1-dc4a-33c03b0cf0a8",
    "solution2": "hidden",
    "solution2_first": true
   },
   "outputs": [
    {
     "name": "stdout",
     "output_type": "stream",
     "text": [
      "Python Camp\n"
     ]
    }
   ],
   "source": [
    "my_workshop = \"Python Camp\"\n",
    "print(my_workshop)"
   ]
  },
  {
   "cell_type": "markdown",
   "metadata": {
    "solution2": "hidden",
    "tags": [
     "hide-cell"
    ]
   },
   "source": [
    "#### Hints\n",
    "\n",
    "- Try changing the text between quotation marks to see how the output varies.\n",
    "- The name (left side of the equals sign) acts like a label for the value (right side of the equal sign -- here, the content between quotation marks).\n",
    "- What do you think `print` does when it is given the name `my_workshop`? "
   ]
  },
  {
   "cell_type": "markdown",
   "metadata": {},
   "source": [
    "### Action 3: Calculating with variables"
   ]
  },
  {
   "cell_type": "code",
   "execution_count": 6,
   "metadata": {
    "colab": {
     "base_uri": "https://localhost:8080/"
    },
    "id": "we5zzfMBH44c",
    "outputId": "88417d6c-7fc6-4adb-a0cb-99f8f84b4746",
    "solution2": "hidden",
    "solution2_first": true
   },
   "outputs": [
    {
     "name": "stdout",
     "output_type": "stream",
     "text": [
      "2999.5\n"
     ]
    }
   ],
   "source": [
    "num_students = 50\n",
    "book_price = 59.99\n",
    "total_cost = num_students * book_price\n",
    "print(total_cost)"
   ]
  },
  {
   "cell_type": "markdown",
   "metadata": {
    "solution2": "hidden",
    "tags": [
     "hide-cell"
    ]
   },
   "source": [
    "#### Hints\n",
    "\n",
    "- We call the combination of *name*-->*value* a **variable**.\n",
    "- Variables in programming are similar to variables in algebra. \n",
    "- But whereas algebraic variables represent unknown values in equations to be solved, in programming, we use variables for many different reasons. \n",
    "- One important use for variables is simply to make our code more readable. "
   ]
  },
  {
   "cell_type": "markdown",
   "metadata": {},
   "source": [
    "### Action 4: Joining strings"
   ]
  },
  {
   "cell_type": "code",
   "execution_count": 12,
   "metadata": {
    "colab": {
     "base_uri": "https://localhost:8080/"
    },
    "id": "GSuH62FMMIHz",
    "outputId": "e2ed2f29-f64c-4142-88ca-924dfec919c9",
    "solution2": "hidden",
    "solution2_first": true
   },
   "outputs": [
    {
     "name": "stdout",
     "output_type": "stream",
     "text": [
      "Python Distilled by David Beazley\n"
     ]
    }
   ],
   "source": [
    "book_title = \"Python Distilled\"\n",
    "book_author = \"David Beazley\"\n",
    "print(book_title + \" by \" + book_author)"
   ]
  },
  {
   "cell_type": "markdown",
   "metadata": {
    "solution2": "hidden",
    "tags": [
     "hide-cell"
    ]
   },
   "source": [
    "#### Hints\n",
    "\n",
    "- Anything in Python between quotation marks is called a **string**.\n",
    "- When working with strings, it's important to pay close attention to what falls *inside the quotation marks* and what sits outside the quotation marks. \n",
    "- The Jupyter Notebook interface helpfully highlights strings in red to distinguish them from the surrounding code."
   ]
  },
  {
   "cell_type": "markdown",
   "metadata": {},
   "source": [
    "### Action 5: Creating a list"
   ]
  },
  {
   "cell_type": "code",
   "execution_count": 1,
   "metadata": {
    "colab": {
     "base_uri": "https://localhost:8080/"
    },
    "id": "5KlRKr7gMaJb",
    "outputId": "4d5477cc-6528-4ac3-a434-8778e7cac910",
    "solution2": "hidden",
    "solution2_first": true
   },
   "outputs": [
    {
     "name": "stdout",
     "output_type": "stream",
     "text": [
      "129.99\n",
      "250.0\n",
      "250.0\n"
     ]
    }
   ],
   "source": [
    "book_prices = [129.99, 99.95, 13.99, 50.00, 250.00]\n",
    "print(book_prices[0])\n",
    "print(book_prices[4])\n",
    "print(book_prices[-1])"
   ]
  },
  {
   "cell_type": "markdown",
   "metadata": {
    "solution2": "hidden",
    "tags": [
     "hide-cell"
    ]
   },
   "source": [
    "#### Hints\n",
    "\n",
    "- Lists allow us to store values in a certain order in the computer's memory.\n",
    "- We can access the values in the stored list by their position.\n",
    "- Try changing the numbers in square brackets to see what happens to the output.\n",
    "- In math, we use negative numbers to count down backwards from zero (`-1, -2, -3...`). Can you tell what the `-1` in `book_prices[-1]` is doing here?\n",
    "- Note that in the previous Action, we used the plus sign (`+`) to combine strings in our `print` statement. In this example, we're using a comma (`,`) to combine values. What happens if you change the comma to a plus sign?"
   ]
  },
  {
   "cell_type": "markdown",
   "metadata": {},
   "source": [
    "### Action 6: Looping over a list"
   ]
  },
  {
   "cell_type": "code",
   "execution_count": 17,
   "metadata": {
    "colab": {
     "base_uri": "https://localhost:8080/"
    },
    "id": "yFKgL3-9NQfG",
    "outputId": "badafd3b-aedc-4778-f8be-83d09fadbb54",
    "solution2": "hidden",
    "solution2_first": true
   },
   "outputs": [
    {
     "name": "stdout",
     "output_type": "stream",
     "text": [
      "142.989\n",
      "109.94500000000001\n",
      "15.389\n",
      "55.0\n",
      "275.0\n"
     ]
    }
   ],
   "source": [
    "for price in book_prices:\n",
    "    sales_tax = price * .1\n",
    "    print(price + sales_tax)"
   ]
  },
  {
   "cell_type": "markdown",
   "metadata": {
    "solution2": "hidden",
    "tags": [
     "hide-cell"
    ]
   },
   "source": [
    "#### Hints\n",
    "\n",
    "- We often use lists in Python to hold data that we want to process in sequence -- such as applying sales tax to every price in a list of prices.\n",
    "- Note that `book_prices` here is the same variable used in the previous action. \n",
    "- A `for` loop allows us to perform the same action for every value in a list of values."
   ]
  },
  {
   "cell_type": "markdown",
   "metadata": {},
   "source": [
    "### Action 7: Creating a dictionary"
   ]
  },
  {
   "cell_type": "code",
   "execution_count": 18,
   "metadata": {
    "colab": {
     "base_uri": "https://localhost:8080/"
    },
    "id": "5y0DvVTvUk8t",
    "outputId": "93f5adca-0803-443b-fd75-c4c736b4454a",
    "solution2": "hidden",
    "solution2_first": true
   },
   "outputs": [
    {
     "name": "stdout",
     "output_type": "stream",
     "text": [
      "Python Distilled\n",
      "49.99\n"
     ]
    }
   ],
   "source": [
    "book_data = {\"title\": \"Python Distilled\", \n",
    "             \"author\": \"David Beazley\",\n",
    "             \"isbn\": \"0134173279\",\n",
    "             \"publisher\": \"Addison-Wesley\",\n",
    "             \"publication_date\": 2021,\n",
    "             \"price\": 49.99}\n",
    "print(book_data[\"title\"])\n",
    "print(book_data[\"price\"])"
   ]
  },
  {
   "cell_type": "markdown",
   "metadata": {
    "solution2": "hidden",
    "tags": [
     "hide-cell"
    ]
   },
   "source": [
    "#### Hints\n",
    "\n",
    "- Dictionaries allow us to store data with more structure than lists.\n",
    "- The concept is similar to a record in a database, which can contain one or more fields.\n",
    "- Note that the **curly braces** (`{}`) enclose the entire dictionary, which we've written on multiple lines here to make it more readable."
   ]
  },
  {
   "cell_type": "markdown",
   "metadata": {
    "tags": [
     "instructor",
     "remove-cell"
    ]
   },
   "source": [
    "### Wrap up\n",
    "\n",
    "- Ask for a volunteer to show their model for each action (2-7).\n",
    "- Surface any questions about the code that arise, and highlight the following:\n",
    "  - Lists (5-6) have items assigned to numbered positions, starting with 0.\n",
    "  - Loop variables (6) assume the value at each position in sequence.\n",
    "  - Dictionaries (7) have items assigned to labeled positions."
   ]
  }
 ],
 "metadata": {
  "celltoolbar": "Tags",
  "colab": {
   "provenance": []
  },
  "kernelspec": {
   "display_name": "Python 3 (ipykernel)",
   "language": "python",
   "name": "python3"
  },
  "language_info": {
   "codemirror_mode": {
    "name": "ipython",
    "version": 3
   },
   "file_extension": ".py",
   "mimetype": "text/x-python",
   "name": "python",
   "nbconvert_exporter": "python",
   "pygments_lexer": "ipython3",
   "version": "3.11.4"
  }
 },
 "nbformat": 4,
 "nbformat_minor": 1
}
