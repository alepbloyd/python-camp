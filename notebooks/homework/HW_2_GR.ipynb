{
 "cells": [
  {
   "cell_type": "markdown",
   "metadata": {},
   "source": [
    "### Graded Homework: Day 2\n",
    "\n",
    "This notebook should be completed *after* the exercises in the [Programming Techniques](https://github.com/gwu-libraries/python-camp/blob/main/notebooks/homework/HW_2_programming_techniques.ipynb) notebook.\n",
    "\n"
   ]
  },
  {
   "cell_type": "markdown",
   "metadata": {},
   "source": [
    "#### Exercise 1\n",
    "\n",
    "The following code defines a list of strings that represent courses. Each string consists of a department code, a course number, and a section number."
   ]
  },
  {
   "cell_type": "code",
   "execution_count": 4,
   "metadata": {
    "tags": [
     "setup:ex1"
    ]
   },
   "outputs": [],
   "source": [
    "courses = ['CHEM 1001 10',\n",
    "          'CHEM 1002, 10',\n",
    "          'CHEM 1002 11',\n",
    "          'BISC 1100 10',\n",
    "          'BISC 1102 10',\n",
    "          'PSC 2001 10',\n",
    "          'PSC 2001 11',\n",
    "          'PSC 2001 12',\n",
    "          'WSTU 6999 10',\n",
    "          'WSTU 6999 11']"
   ]
  },
  {
   "cell_type": "markdown",
   "metadata": {},
   "source": [
    "In the cell below, write some code that will transform the data in the `courses` list into a list of dictionaries. Each dictionary should be structured as follows:\n",
    "```\n",
    "{'dept': 'CHEM',\n",
    " 'course': '1001',\n",
    " 'section': '10'} \n",
    "```\n",
    "In other words, each dictionary should have the same three keys: `dept`, `course`, and `section`. And there should be one dictionary for each of the courses in the `courses` list.\n",
    "\n",
    "Call this new list `courses_db` (for \"courses database\"). "
   ]
  },
  {
   "cell_type": "code",
   "execution_count": 5,
   "metadata": {
    "tags": [
     "solution:ex1"
    ]
   },
   "outputs": [],
   "source": [
    "#Your code here"
   ]
  },
  {
   "cell_type": "code",
   "execution_count": 6,
   "metadata": {
    "tags": [
     "hide-cell",
     "test-case:ex1"
    ]
   },
   "outputs": [],
   "source": [
    "assert 'courses_db' in globals(), 'courses_db is not defined'\n",
    "assert isinstance(courses_db, list), 'courses_db is not a list.'\n",
    "assert isinstance(courses_db[0], dict), 'courses_db does not contain a dict as its first element.'\n",
    "assert len(courses_db) == len(courses), 'courses_db is the wrong length.'\n",
    "assert set(courses_db[0].keys()) == {'dept', 'course', 'section'}, 'The first element of courses_db does not have the right keys.'\n",
    "assert set(courses_db[0].values()) == {'CHEM', '1001', '10'}, 'The first element of courses_db does not have the right values.'\n",
    "assert set(courses_db[-1].values()) == {'WSTU', '6999', '11'}, 'The last element of courses_db does not have the right values.'"
   ]
  }
 ],
 "metadata": {
  "celltoolbar": "Tags",
  "kernelspec": {
   "display_name": "Python 3",
   "language": "python",
   "name": "python3"
  },
  "language_info": {
   "codemirror_mode": {
    "name": "ipython",
    "version": 3
   },
   "file_extension": ".py",
   "mimetype": "text/x-python",
   "name": "python",
   "nbconvert_exporter": "python",
   "pygments_lexer": "ipython3",
   "version": "3.8.5"
  }
 },
 "nbformat": 4,
 "nbformat_minor": 4
}
