{
 "cells": [
  {
   "cell_type": "markdown",
   "metadata": {},
   "source": [
    "# Querying Textbook Data"
   ]
  },
  {
   "cell_type": "markdown",
   "metadata": {},
   "source": [
    "### Objectives\n",
    "\n",
    "- To use lists, loops, and conditionals to answer basic questions about a dataset\n",
    "- To design data structures with specific purposes (use cases) in mind"
   ]
  },
  {
   "cell_type": "markdown",
   "metadata": {
    "tags": [
     "instructor"
    ]
   },
   "source": [
    "Instructors should review the material in the `Preliminaries` section with the whole group, before giving teams their assignments."
   ]
  },
  {
   "cell_type": "markdown",
   "metadata": {},
   "source": [
    "### Preliminaries\n",
    "\n",
    "Before we return to our textbook dataset, we will introduce one new Python **control structure** and review a common **programming pattern**. "
   ]
  },
  {
   "cell_type": "markdown",
   "metadata": {},
   "source": [
    "#### Conditionals & Boolean values\n",
    "\n",
    "In a very abstract sense, a computer is a machine for implementing binary logic. In binary logic, the only values allowed are `1`'s and `0`'s, which represent `True` and `False`, respectively. \n",
    "\n",
    "Thus, at some level, _everything_ we do in computation can be reduced to `True` or `False` (from the computer's perspective). But from a programmer's perspective, this usually only matters in situations where we want the program to do different things based on certain conditions that may or may not obtain. This cases are called _conditionals_. \n",
    "\n",
    "For instance, we can tell Python to compare two numbers, using the standard operators you might have learned in math classes: greater than, less than, equal to, etc.\n",
    "\n",
    "Note that in Python, we represent equality by the **double equals sign** (`==`). A single equals sign is reserved for variable assignment."
   ]
  },
  {
   "cell_type": "markdown",
   "metadata": {},
   "source": [
    "Running the code below should return `True`, which is one of two special Python values called **Boolean values** (so named because the binary logic that computers implement was invented by the mathematician George Boole)."
   ]
  },
  {
   "cell_type": "code",
   "execution_count": 1,
   "metadata": {},
   "outputs": [
    {
     "data": {
      "text/plain": [
       "True"
      ]
     },
     "execution_count": 1,
     "metadata": {},
     "output_type": "execute_result"
    }
   ],
   "source": [
    "book_price = 55.99 # Assignment: single equals sign\n",
    "book_price < 60"
   ]
  },
  {
   "cell_type": "markdown",
   "metadata": {},
   "source": [
    "##### Try it out!\n",
    "\n",
    "Write an expression with the `book_price` variable that returns `False`."
   ]
  },
  {
   "cell_type": "code",
   "execution_count": null,
   "metadata": {},
   "outputs": [],
   "source": []
  },
  {
   "cell_type": "markdown",
   "metadata": {
    "tags": [
     "instructor"
    ]
   },
   "source": [
    "(for instructors)\n",
    "\n",
    "Solicit examples from the group. Make sure to demonstrate the case of equality, emphasizing the double equals sign, e.g.,\n",
    "\n",
    "`book_price == 55` \n",
    "\n",
    "It may help also to point out that just as we saw that it's not possible to add a `str` value and an `int` (or `float`), we also can't compare string and numeric types:\n",
    "\n",
    "```\n",
    "'$55.99' > 60\n",
    "```\n",
    "The code above will produce a `TypeError`.\n"
   ]
  },
  {
   "cell_type": "markdown",
   "metadata": {},
   "source": [
    "#### `if` statements\n",
    "\n",
    "Usually, we want to do more than evaluate whether an expression (like `book_price < 60`) is `True` or `False`. Usually, we want the program to _take some action_ based on the outcome of that evaluation.\n",
    "\n",
    "For this, we use the `if` statement. \n",
    "\n",
    "To print a message if the value of `book_price` is above a certain threshhold, we can write the following:"
   ]
  },
  {
   "cell_type": "code",
   "execution_count": 3,
   "metadata": {},
   "outputs": [],
   "source": [
    "if book_price > 100:\n",
    "    print(\"That's an expensive textbook!\")"
   ]
  },
  {
   "cell_type": "markdown",
   "metadata": {},
   "source": [
    "Running the code above produces no output, at least not if `book_price` is assigned as above (to the float value `55.99`). \n",
    "\n",
    "If we change the value of `book_price` so that the condition is `True`, we should see our message:"
   ]
  },
  {
   "cell_type": "code",
   "execution_count": 4,
   "metadata": {},
   "outputs": [
    {
     "name": "stdout",
     "output_type": "stream",
     "text": [
      "That's an expensive textbook!\n"
     ]
    }
   ],
   "source": [
    "book_price = 101.99\n",
    "if book_price > 100:\n",
    "    print(\"That's an expensive textbook!\")"
   ]
  },
  {
   "cell_type": "markdown",
   "metadata": {},
   "source": [
    "What if we want to check for books within a certain range of prices? \n",
    "\n",
    "We can use the **Boolean operator** `and` to do this. The `and` operator links two conditions: if both sub-conditions are `True`, then the whole condition (with the `and`) is also `True`. Otherwise, it is `False`. \n",
    "\n",
    "The other common Boolean operators are `or` and `not`. `or` is `True` if _at least one_ sub-condition is `True`. `not` flips (inverts) a condition: so `not True` is `False`."
   ]
  },
  {
   "cell_type": "code",
   "execution_count": 6,
   "metadata": {},
   "outputs": [
    {
     "name": "stdout",
     "output_type": "stream",
     "text": [
      "Not too expensive\n"
     ]
    }
   ],
   "source": [
    "book_price = 55.99\n",
    "if book_price >= 20 and book_price <= 100:\n",
    "    print(\"Not too expensive\")"
   ]
  },
  {
   "cell_type": "markdown",
   "metadata": {},
   "source": [
    "In the examples above, our code either performed an action or not, depending on a single condition. We can also specify multiple conditions, only one of which can be true. For example, if `book_price` is between `20` and `100`, the following code will print `Not too expensive`), but it will print other messages if `book_price` is less than `20` or greater than `100`."
   ]
  },
  {
   "cell_type": "code",
   "execution_count": 7,
   "metadata": {},
   "outputs": [
    {
     "name": "stdout",
     "output_type": "stream",
     "text": [
      "Not too expensive\n"
     ]
    }
   ],
   "source": [
    "if book_price >= 20 and book_price <= 100:\n",
    "    print(\"Not too expensive\")\n",
    "elif book_price < 20:\n",
    "    print(\"That's a relatively cheap textbook.\")\n",
    "else:\n",
    "    print(\"That's an expensive textbook!\")"
   ]
  },
  {
   "cell_type": "markdown",
   "metadata": {},
   "source": [
    "Here are some rules of thumb for writing `if` statements in Python:\n",
    "- You can have as many `elif` statements as you want, provided they follow an `if` statement.\n",
    "- The `else` statement is a catch-all: it will be executed if none of the preceding `if` or `elif` statements evaluates to `True`.\n",
    "- Otherwise, the _first_ `if`/`elif` statement that is `True` will be executed, and _all the rest_ will be ignored. In other words, if the conditions you're testing for are not mutually exclusive, you should write the most specific test first. \n",
    "- Each `if`/`elif`/`else` statement ends with a colon and is followed by an **indented block** of code. This is the same pattern we saw with `for` loops. "
   ]
  },
  {
   "cell_type": "markdown",
   "metadata": {
    "tags": [
     "instructor"
    ]
   },
   "source": [
    "(for instructors)\n",
    "\n",
    "Make sure to take questions at this point. In particular, the implications of the third rule above may not be immediately apparent to learners. An example may help:\n",
    "\n",
    "```\n",
    "pub_price = 100.99\n",
    "on_sale = True\n",
    "if pub_price > 100 and on_sale:\n",
    "    retail_price = pub_price * 1.25\n",
    "elif on_sale:\n",
    "    retail_price = pub_price * 1.35\n",
    "else:\n",
    "    retail_price = pub_price * 1.40\n",
    "    \n",
    "```\n",
    "In this example, we calculate retail price from a publisher's price, using a markup percentage. The percentage to be applied depends on whether or not the book is on sale, with an extra discount for books over $100 that are on sale.\n",
    "\n",
    "If we didn't put the compound condition in the first position (`if pub_price > 100 and on_sale`), then sale books over $100 would not get the appropriate discount. \n",
    "    "
   ]
  },
  {
   "cell_type": "markdown",
   "metadata": {},
   "source": [
    "#### A `for` loop pattern\n",
    "\n",
    "A very common use of `for` loops in Python is to **accumulate** (or aggregate, or otherwise keep track of) certain values when processing a list. \n",
    "\n",
    "We've seen a version of this pattern before: in the homework, you use a loop to convert some prices from strings to floats and then to adjust the price with sales tax. You collected the adjusted prices in a new list.\n",
    "\n",
    "In the example below, we'll use this pattern to keep track of a single value. The value we're tracking will simply be the number of items in the list.\n",
    "\n",
    "We'll use our bookstore dataset, so the first step is to read the file into Python from disk."
   ]
  },
  {
   "cell_type": "code",
   "execution_count": 8,
   "metadata": {},
   "outputs": [],
   "source": [
    "import json\n",
    "with open('../../data/bookstore-data-simplified.json') as f:\n",
    "    bkst_data = json.load(f)"
   ]
  },
  {
   "cell_type": "markdown",
   "metadata": {},
   "source": [
    "To use this pattern, you usually have at least _three_ variables to deal with:\n",
    "1. The variable that holds your list (`bkst_data`)\n",
    "2. A loop variable (`course` in the code below)\n",
    "3. A variable defined _before_ the loop that will be used to track or accumulate values. Since this loop is just counting items, we'll call this variable `counter`. We set `counter` initially to `0`, since before we run the loop, we haven't counted any items.\n",
    "\n",
    "Note also that `counter += 1` is shorthand for `counter = counter + 1`. Either way of writing that expression is fine."
   ]
  },
  {
   "cell_type": "code",
   "execution_count": 10,
   "metadata": {},
   "outputs": [
    {
     "name": "stdout",
     "output_type": "stream",
     "text": [
      "Counter before loop 0\n",
      "Counter after loop 1250\n"
     ]
    }
   ],
   "source": [
    "counter = 0\n",
    "print(\"Counter before loop\", counter)\n",
    "for course in bkst_data:\n",
    "    counter += 1\n",
    "print(\"Counter after loop\", counter)"
   ]
  },
  {
   "cell_type": "markdown",
   "metadata": {
    "tags": [
     "instructor"
    ]
   },
   "source": [
    "(for instructors)\n",
    "\n",
    "Point out that the `print()` statements emphasize the fact that the `counter` variable is incremented by the loop, so that it goes from 0 to 1250 (the number of items in the list).\n",
    "\n",
    "Point out that this code essentially does the same thing as `len(bkst_data)`. "
   ]
  },
  {
   "cell_type": "markdown",
   "metadata": {},
   "source": [
    "### Team Activity\n",
    "\n"
   ]
  },
  {
   "cell_type": "code",
   "execution_count": 12,
   "metadata": {},
   "outputs": [
    {
     "data": {
      "text/plain": [
       "55"
      ]
     },
     "execution_count": 12,
     "metadata": {},
     "output_type": "execute_result"
    }
   ],
   "source": [
    "len([b for b in bkst_data if len(b['texts']) > 0])"
   ]
  }
 ],
 "metadata": {
  "celltoolbar": "Tags",
  "kernelspec": {
   "display_name": "Python 3",
   "language": "python",
   "name": "python3"
  },
  "language_info": {
   "codemirror_mode": {
    "name": "ipython",
    "version": 3
   },
   "file_extension": ".py",
   "mimetype": "text/x-python",
   "name": "python",
   "nbconvert_exporter": "python",
   "pygments_lexer": "ipython3",
   "version": "3.8.5"
  }
 },
 "nbformat": 4,
 "nbformat_minor": 4
}
