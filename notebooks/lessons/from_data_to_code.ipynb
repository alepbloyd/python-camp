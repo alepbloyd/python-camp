{
 "cells": [
  {
   "cell_type": "markdown",
   "metadata": {},
   "source": [
    "# From Data to Code"
   ]
  },
  {
   "cell_type": "markdown",
   "metadata": {},
   "source": [
    "### Objectives\n",
    "\n",
    "- To explore a \"real-world\" dataset for use with Python.\n",
    "- To use Python to interact with data in a common, widely used format (JSON).\n",
    "- To explore the data structures and syntactical patterns of the Python language."
   ]
  },
  {
   "cell_type": "markdown",
   "metadata": {},
   "source": [
    "### Instructions\n",
    "\n",
    "The following notebook has cells containing Python code for interacting with an external data file. \n",
    "\n",
    "1. Before you begin, each team should designate a note taker to record answers to the questions for discussion (see below).\n",
    "2. Read the section below, `Introducing the dataset`, and as a team, record any questions you have about it.\n",
    "3. Run each cell of code in this notebook (by pressing `Control` + `Enter` on a PC,  `Command` + `Return` on a Mac). The output of running the code will appear below the cell.\n",
    "4. Each cell is accompanied by annotations, and in some cases, questions for discussion. Discuss your responses to these questions with your team. The note taker should brielfy document the conversation (including any further questions or points of confusion that arise).\n",
    "5. Blank cells labeled `Try it out!` invite you to write your own code based on the provided examples. Run your code and discuss the output with your team.\n",
    "6. Once everyone has worked through the notebook, we'll review the questions and your responses in the larger group.\n"
   ]
  },
  {
   "cell_type": "markdown",
   "metadata": {},
   "source": [
    "### The dataset\n",
    "\n",
    "Over the next few days, we'll be working together on a dataset containing information about textbooks assigned by courses at GW for the **[add term]** semester. \n",
    "\n",
    "#### Source\n",
    "\n",
    "This dataset was obtained by scraping the [GW Bookstore](https://www.bkstr.com/georgewashingtonstore/shop/textbooks-and-course-materials) website. Because web scraping is a rather advanced topic, we won't be covering that process in Python Camp.(The [code](https://github.com/gwu-libraries/python-camp/blob/main/course-utils/gw_bookstore_scraping.ipynb) is available in the Python Camp GitHup repository, for those who are interested.) \n",
    "\n",
    "The dataset was also pre-processed to simplify it somewhat (removing extraneous and redundant elements, etc.).\n",
    "\n",
    "#### Format\n",
    "\n",
    "The dataset is in **JSON** format. JSON (usually pronounced *jay-sawn*) is a common format for sharing data on the web. It's not as concise or human-readable as some formats (e.g., CSV, which is often used for sharing tabular data). But it has a few advantages that make it popular with programmers:\n",
    " - JSON data can be deeply nested, reflecting hierarchical relationships between data elements.\n",
    " - The JSON format comprises structures that map well onto the most common data structures used by modern programming languages. \n",
    " - The JSON syntax has a lot in common with languages like Python.\n",
    " \n",
    "We'll explore these three aspects of JSON today."
   ]
  },
  {
   "cell_type": "markdown",
   "metadata": {},
   "source": [
    "### Loading the data\n",
    "\n",
    "The code below will load data from an external file located in a directory called `data`. The directory is relative to the current directory (in which this notebook lives).\n",
    "\n",
    "1. We **import** a Python library called `json`. A library is just some external Python code that provides a particular functionality. The `json` library allows us to convert data in JSON format to Python data types. (More on data types below).\n",
    "2. We use the `open` function to open a file in a directory called `data`. The file is called `bookstore-data-cleaned.json`, where the `.json` extension indicates that this is a JSON-formatted file. (The file extension is part of the filename, like `docx` for Word documents or `.xlsx` for Excel spreadsheets.) \n",
    "3. The file is assigned to the temporary name `f`.\n",
    "4. We use the `json.load` **method** to read the file (`f`). This method is specifically designed for JSON files; it won't work if the file does not contain data in valid JSON format. \n",
    "5. The contents of the file, as processed by `json.load`, are assigned to a new name, `bkst_data`."
   ]
  },
  {
   "cell_type": "code",
   "execution_count": 1,
   "metadata": {},
   "outputs": [],
   "source": [
    "import json\n",
    "with open('../../data/bookstore-data-simplified.json') as f:\n",
    "    bkst_data = json.load(f)"
   ]
  },
  {
   "cell_type": "markdown",
   "metadata": {},
   "source": [
    "The `type` **function** provides as output information about the value associated with the name `bkst_data`. It tells us the name of the Python data structure that characterizes this value."
   ]
  },
  {
   "cell_type": "code",
   "execution_count": 2,
   "metadata": {},
   "outputs": [
    {
     "data": {
      "text/plain": [
       "list"
      ]
     },
     "execution_count": 2,
     "metadata": {},
     "output_type": "execute_result"
    }
   ],
   "source": [
    "type(bkst_data)"
   ]
  },
  {
   "cell_type": "markdown",
   "metadata": {},
   "source": [
    "##### Question\n",
    "\n",
    "You have encountered a Python list before. What was the name of the variable that held a list in the \"Choreographing Code\" exercise?"
   ]
  },
  {
   "cell_type": "markdown",
   "metadata": {},
   "source": [
    "##### Notes\n",
    "\n",
    "- Going forward, when referring to functions and their output, we will say that the function **returns** something.\n",
    "- Every Python value has a defined **type**.\n",
    "- When we use the word **variable**, we're generally referring to the combination of a name and a value. Thus, we can say, \"the variable `bkst_data` is a list.\" "
   ]
  },
  {
   "cell_type": "markdown",
   "metadata": {},
   "source": [
    "### Navigating lists"
   ]
  },
  {
   "cell_type": "code",
   "execution_count": 2,
   "metadata": {},
   "outputs": [
    {
     "data": {
      "text/plain": [
       "{'department': 'ACA',\n",
       " 'course': '6203',\n",
       " 'section': '10',\n",
       " 'instructor': 'Alexander Wild',\n",
       " 'term_name': 'Summer 2023',\n",
       " 'texts': []}"
      ]
     },
     "execution_count": 2,
     "metadata": {},
     "output_type": "execute_result"
    }
   ],
   "source": [
    "bkst_data[0]"
   ]
  },
  {
   "cell_type": "markdown",
   "metadata": {},
   "source": [
    "The code above uses **indexing** to access the first element in the `bkst_data` list. When you run it, you should see data enclosed in curly braces (`{}`). \n",
    "\n",
    "##### Try it out!\n",
    "\n",
    "In the cell below, use indexing to look at other elements in the list. (Change the number inside the square brackets in the expression `bkst_data[0]`). "
   ]
  },
  {
   "cell_type": "code",
   "execution_count": null,
   "metadata": {},
   "outputs": [],
   "source": [
    "# Your code here"
   ]
  },
  {
   "cell_type": "markdown",
   "metadata": {},
   "source": [
    "##### Questions\n",
    "\n",
    "- What data elements do you see that might prove useful to our project (identifying courses with high- and low-cost textbooks)?\n",
    "- What data elements do you have questions about?"
   ]
  },
  {
   "cell_type": "markdown",
   "metadata": {},
   "source": [
    "##### Try it out!\n",
    "\n",
    "For an example of course with assigned textbooks, look at the element in the 100th position in the list (at index 99).\n",
    "\n",
    "Note any additional data elements that might be useful, as well as any that you have questions about."
   ]
  },
  {
   "cell_type": "code",
   "execution_count": null,
   "metadata": {},
   "outputs": [],
   "source": [
    "# Your code here"
   ]
  },
  {
   "cell_type": "markdown",
   "metadata": {},
   "source": [
    "### Navigating nested data"
   ]
  },
  {
   "cell_type": "code",
   "execution_count": 4,
   "metadata": {},
   "outputs": [
    {
     "data": {
      "text/plain": [
       "1250"
      ]
     },
     "execution_count": 4,
     "metadata": {},
     "output_type": "execute_result"
    }
   ],
   "source": [
    "len(bkst_data)"
   ]
  },
  {
   "cell_type": "markdown",
   "metadata": {},
   "source": [
    "The `len()` function returns the length of a list. Here we can see that there are 1,250 top-level elements in `bkst_data`. But each element contains other elements below it. "
   ]
  },
  {
   "cell_type": "markdown",
   "metadata": {},
   "source": [
    "##### Question\n",
    "\n",
    "What does each top-level element in the `bkst_data` list represent?"
   ]
  },
  {
   "cell_type": "code",
   "execution_count": 4,
   "metadata": {},
   "outputs": [
    {
     "data": {
      "text/plain": [
       "dict"
      ]
     },
     "execution_count": 4,
     "metadata": {},
     "output_type": "execute_result"
    }
   ],
   "source": [
    "my_course = bkst_data[99]\n",
    "type(my_course)"
   ]
  },
  {
   "cell_type": "markdown",
   "metadata": {},
   "source": [
    "A single course is represented as a Python **dictionary** (`dict`) within the `bkst_data` list. \n",
    "\n",
    "As we saw in the previous activity, dictionaries allow us to store data in fields, similar to a database. The elements on the left-hand side of the colons are called **keys**, and the elements on the right-hand side of the colons are called **values**.\n",
    "\n",
    "Here the keys are **strings**; anything enclosed in quotation marks in Python is a string.\n",
    "\n",
    "We can use the keys to retrieve the values from the dictionary."
   ]
  },
  {
   "cell_type": "code",
   "execution_count": 5,
   "metadata": {
    "scrolled": true
   },
   "outputs": [
    {
     "data": {
      "text/plain": [
       "{'department': 'CHEM',\n",
       " 'course': '2151',\n",
       " 'section': '10',\n",
       " 'instructor': 'LaKeisha McClary',\n",
       " 'term_name': 'Summer 2023',\n",
       " 'texts': [{'title': 'Organic Chemistry (Loose Pgs)',\n",
       "   'author': 'Klein',\n",
       "   'edition': '4th',\n",
       "   'isbn': '9781119659594',\n",
       "   'material_type': 'TXT',\n",
       "   'requirement_type': 'RQ',\n",
       "   'copy_right_year': '2021',\n",
       "   'publisher': 'John Wiley & Sons, Incorporated',\n",
       "   'type_condition': 'BUY_USED',\n",
       "   'price_display': '$113.50',\n",
       "   'item_type': 'print'},\n",
       "  {'title': 'Organic Chemistry (Loose Pgs)',\n",
       "   'author': 'Klein',\n",
       "   'edition': '4th',\n",
       "   'isbn': '9781119659594',\n",
       "   'material_type': 'TXT',\n",
       "   'requirement_type': 'RQ',\n",
       "   'copy_right_year': '2021',\n",
       "   'publisher': 'John Wiley & Sons, Incorporated',\n",
       "   'type_condition': 'BUY_NEW',\n",
       "   'price_display': '$151.25',\n",
       "   'item_type': 'print'},\n",
       "  {'title': 'Organic Chemistry Molecular Model Set',\n",
       "   'author': 'Prentice Hall',\n",
       "   'edition': 'N/A',\n",
       "   'isbn': '9780205081363',\n",
       "   'material_type': 'TXT',\n",
       "   'requirement_type': 'RQ',\n",
       "   'copy_right_year': '1984',\n",
       "   'publisher': 'Pearson',\n",
       "   'type_condition': 'RENTAL_USED',\n",
       "   'price_display': '$66.25',\n",
       "   'item_type': 'print'},\n",
       "  {'title': 'Organic Chemistry Molecular Model Set',\n",
       "   'author': 'Prentice Hall',\n",
       "   'edition': 'N/A',\n",
       "   'isbn': '9780205081363',\n",
       "   'material_type': 'TXT',\n",
       "   'requirement_type': 'RQ',\n",
       "   'copy_right_year': '1984',\n",
       "   'publisher': 'Pearson',\n",
       "   'type_condition': 'BUY_USED',\n",
       "   'price_display': '$99.50',\n",
       "   'item_type': 'print'},\n",
       "  {'title': 'Organic Chemistry Molecular Model Set',\n",
       "   'author': 'Prentice Hall',\n",
       "   'edition': 'N/A',\n",
       "   'isbn': '9780205081363',\n",
       "   'material_type': 'TXT',\n",
       "   'requirement_type': 'RQ',\n",
       "   'copy_right_year': '1984',\n",
       "   'publisher': 'Pearson',\n",
       "   'type_condition': 'BUY_NEW',\n",
       "   'price_display': '$132.50',\n",
       "   'item_type': 'print'},\n",
       "  {'title': 'Organic Chemistry, Integrated E-Text with E-Solutions Manual',\n",
       "   'author': 'Klein',\n",
       "   'edition': '4th',\n",
       "   'isbn': '9781119776741',\n",
       "   'material_type': 'CEB',\n",
       "   'requirement_type': 'RQ',\n",
       "   'copy_right_year': None,\n",
       "   'publisher': 'John Wiley & Sons, Incorporated',\n",
       "   'type_condition': 'RENTAL_NEW',\n",
       "   'price_display': '$50.19',\n",
       "   'item_type': 'digital'},\n",
       "  {'title': 'Organic Chemistry, Integrated E-Text with E-Solutions Manual',\n",
       "   'author': 'Klein',\n",
       "   'edition': '4th',\n",
       "   'isbn': '9781119776741',\n",
       "   'material_type': 'CEB',\n",
       "   'requirement_type': 'RQ',\n",
       "   'copy_right_year': None,\n",
       "   'publisher': 'John Wiley & Sons, Incorporated',\n",
       "   'type_condition': 'BUY_NEW',\n",
       "   'price_display': '$119.50',\n",
       "   'item_type': 'digital'}]}"
      ]
     },
     "execution_count": 5,
     "metadata": {},
     "output_type": "execute_result"
    }
   ],
   "source": [
    "my_course"
   ]
  },
  {
   "cell_type": "code",
   "execution_count": 7,
   "metadata": {},
   "outputs": [
    {
     "name": "stdout",
     "output_type": "stream",
     "text": [
      "CHEM\n"
     ]
    }
   ],
   "source": [
    "my_dept = my_course['department']\n",
    "print(my_dept)"
   ]
  },
  {
   "cell_type": "markdown",
   "metadata": {},
   "source": [
    "##### Try it out!\n",
    "\n",
    "Practice accessing other elements within `my_course` using keys. "
   ]
  },
  {
   "cell_type": "code",
   "execution_count": null,
   "metadata": {},
   "outputs": [],
   "source": [
    "# Your code here"
   ]
  },
  {
   "cell_type": "markdown",
   "metadata": {},
   "source": [
    "##### Questions\n",
    "\n",
    "Which elements can you NOT access this way?"
   ]
  },
  {
   "cell_type": "code",
   "execution_count": 13,
   "metadata": {},
   "outputs": [
    {
     "data": {
      "text/plain": [
       "list"
      ]
     },
     "execution_count": 13,
     "metadata": {},
     "output_type": "execute_result"
    }
   ],
   "source": [
    "type(my_course['texts'])"
   ]
  },
  {
   "cell_type": "code",
   "execution_count": 14,
   "metadata": {},
   "outputs": [
    {
     "data": {
      "text/plain": [
       "7"
      ]
     },
     "execution_count": 14,
     "metadata": {},
     "output_type": "execute_result"
    }
   ],
   "source": [
    "len(my_course['texts'])"
   ]
  },
  {
   "cell_type": "markdown",
   "metadata": {},
   "source": [
    "The textbooks associated with this course/section are stored within a **nested** element: a list associated with the key `'texts'`. \n",
    "\n",
    "This particular course/section has 7 entries under the `texts` heading.\n",
    "\n",
    "##### Question\n",
    "\n",
    "At this point, we have drilled down a few levels into our dataset, and things might be starting to look rather complicated. Take a moment with your team to sketch on paper the structure of our dataset so far. Draw it in whatever way feels most intuitive to you (without worrying about Python data types for the moment)."
   ]
  },
  {
   "cell_type": "code",
   "execution_count": 6,
   "metadata": {},
   "outputs": [
    {
     "data": {
      "text/plain": [
       "{'title': 'Organic Chemistry (Loose Pgs)',\n",
       " 'author': 'Klein',\n",
       " 'edition': '4th',\n",
       " 'isbn': '9781119659594',\n",
       " 'material_type': 'TXT',\n",
       " 'requirement_type': 'RQ',\n",
       " 'copy_right_year': '2021',\n",
       " 'publisher': 'John Wiley & Sons, Incorporated',\n",
       " 'type_condition': 'BUY_USED',\n",
       " 'price_display': '$113.50',\n",
       " 'item_type': 'print'}"
      ]
     },
     "execution_count": 6,
     "metadata": {},
     "output_type": "execute_result"
    }
   ],
   "source": [
    "my_books = my_course['texts']\n",
    "my_books[0]"
   ]
  },
  {
   "cell_type": "markdown",
   "metadata": {},
   "source": [
    "##### Try it out!\n",
    "\n",
    "Use indexing to look at each of the items in the `my_books` variable. With your team, revise your sketch/data diagram to reflect how course materials are represented in this dataset."
   ]
  },
  {
   "cell_type": "code",
   "execution_count": null,
   "metadata": {},
   "outputs": [],
   "source": [
    "# Your code here"
   ]
  },
  {
   "cell_type": "markdown",
   "metadata": {},
   "source": [
    "##### Questions\n",
    "\n",
    "1. We're ultimately interested in the cost of course materials as reported by the bookstore. Where do the relevant data elements reside within the structure we have been exploring?\n",
    "\n",
    "\n",
    "3. Up to we've been looking at our data in terms of content and organization: thinking about what different elements represent, and how those elements relate to each other. Now take a few moments and look at the data in terms of **syntax**. With your team, make an inventory of the differents kinds of punctuation marks you see in the parts of the dataset you have examined, and discuss any patterns you notice in how punctuation is used."
   ]
  },
  {
   "cell_type": "markdown",
   "metadata": {
    "tags": [
     "instructor"
    ]
   },
   "source": [
    "### Wrap up\n",
    "\n",
    "#### Part 1: Data semantics\n",
    "\n",
    "The goal in this part of the discussion is to highlight how data formats like JSON allow us to *represent relationships*. Our dataset represents a model of something out in the world (textbooks/course materials used by courses at GW), and we're using Python in order to _interact with that model_ in various ways.\n",
    "\n",
    "Instructors should document the modeling that emerges from this discussion as a tool for use in subsequent team activities.\n",
    "\n",
    "1. Ask for volunteers (note takers or others) to share the data diagramming done by their teams. The cleaned data has the following hierarchy:\n",
    "\n",
    "```\n",
    "\n",
    "bkst_data[list]\n",
    "---a course[dict]\n",
    "------department[str] [...course, section, instructor, etc.]\n",
    "------texts[list]\n",
    "---------a text[dict]\n",
    "------------title[str] [...author, isbn, etc.]\n",
    "\n",
    "```\n",
    "\n",
    "2. Note the presence of the different data types, but emphasize that the homework for Day 1 will cover the differences in detail. For now, focus on how the data elements relate to one another. Language like the following can help:\n",
    "  - A course record (in this dataset) _has_ a department, instructor, etc.\n",
    "  - A course _can have_ one or more texts.\n",
    "  - A text has a title, price, etc.\n",
    "  \n",
    "  \n",
    "3. Help teams surface any questions they have about the data or points of confusion.\n",
    "\n",
    "\n",
    "#### Part 2: Syntax\n",
    "\n",
    "The goal of this part of the discussion is to start to identify the syntactic elements of Python that allow us to model the world in certain ways. \n",
    "\n",
    "Have each team/note taker share their inventory of syntactic elements.\n",
    "\n",
    "It's not necessary at this point to go through all of these elements in detail. Depending on the mood of the group, however, it may be useful to highlight the following (as preparation for the homework):\n",
    "\n",
    "  - **Quotation marks** `''`\n",
    "    - surround strings of characters (letters, numbers, other punctuation)\n",
    "    - occuring on the left side of a colon (e.g., `title`, `isbn`), they function as field names, in Python called **keys**\n",
    "    - occuring on the right side of a colon (e.g., `CHEM`, `Organic Chemistry Model Set`), they function as field **values**\n",
    "    - also used inside square brackets (see below) to retrieve values from their fields:  `text['title']`\n",
    "    - can be single or double: makes no difference to Python\n",
    "  - **Square brackets** `[]`\n",
    "    - enclose a collection of data elements called a **list**\n",
    "    - elements of a list can be any other type of Python data, or even multiple types\n",
    "    - also used for accessing data in two ways:\n",
    "      - by position (from a list): `bkst_data[0]`\n",
    "      - by field (from a dictionary): `my_course['department']`\n",
    "  - **Curly braces** `{}`\n",
    "    - enclose a collection of data elements called a **dictionary**\n",
    "    - dictionaries have more structure than lists: each element comprises a field name (**key**) associated with a **value**\n",
    "    - square brackets are used to access dictionary values by key (see above)\n",
    "  - **Commans**\n",
    "    - used to separate elements in a dictionary or list\n",
    "  - **Parentheses**\n",
    "    - used when calling **functions**: `print(\"Hello, world!\")`, `len(bkst_data)`\n",
    "    - enclose values or variables passed to the function for processing (**arguments**)"
   ]
  }
 ],
 "metadata": {
  "celltoolbar": "Tags",
  "kernelspec": {
   "display_name": "Python 3",
   "language": "python",
   "name": "python3"
  },
  "language_info": {
   "codemirror_mode": {
    "name": "ipython",
    "version": 3
   },
   "file_extension": ".py",
   "mimetype": "text/x-python",
   "name": "python",
   "nbconvert_exporter": "python",
   "pygments_lexer": "ipython3",
   "version": "3.8.5"
  }
 },
 "nbformat": 4,
 "nbformat_minor": 4
}
