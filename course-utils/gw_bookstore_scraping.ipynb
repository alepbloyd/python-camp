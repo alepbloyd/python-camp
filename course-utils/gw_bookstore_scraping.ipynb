{
 "cells": [
  {
   "cell_type": "code",
   "execution_count": 1,
   "metadata": {},
   "outputs": [],
   "source": [
    "import requests\n",
    "from bs4 import BeautifulSoup\n",
    "import re\n",
    "from collections import defaultdict\n",
    "from copy import deepcopy\n",
    "import json\n",
    "from datetime import datetime\n",
    "from scraping_config import config"
   ]
  },
  {
   "cell_type": "markdown",
   "metadata": {},
   "source": [
    "### Scraping course info from GW Schedule of Classes"
   ]
  },
  {
   "cell_type": "code",
   "execution_count": 7,
   "metadata": {},
   "outputs": [],
   "source": [
    "base_url = config['schedule_page_url']\n",
    "params = {'campid': config['campus_id'],\n",
    "        'termid': config['term_id']} # Summer 2023\n",
    "# Get list of departments\n",
    "dept_page = requests.get(base_url, params=params)"
   ]
  },
  {
   "cell_type": "code",
   "execution_count": null,
   "metadata": {},
   "outputs": [],
   "source": [
    "soup = BeautifulSoup(dept_page.text)"
   ]
  },
  {
   "cell_type": "code",
   "execution_count": null,
   "metadata": {},
   "outputs": [],
   "source": [
    "dept_links = soup.find_all(\"a\", href=re.compile(r'.+&subjId=.+'))"
   ]
  },
  {
   "cell_type": "code",
   "execution_count": null,
   "metadata": {},
   "outputs": [],
   "source": [
    "# Extract dept. codes from list of departments\n",
    "dept_codes = [d['href'].split('&subjId=')[-1] for d in dept_links]"
   ]
  },
  {
   "cell_type": "code",
   "execution_count": null,
   "metadata": {},
   "outputs": [],
   "source": [
    "# Get each page (first page of results for each dept)\n",
    "course_url = config['course_page_url']\n",
    "course_pages = defaultdict(list)\n",
    "for code in dept_codes:\n",
    "    params['subjid'] = code\n",
    "    page = requests.post(course_url, params=params)\n",
    "    course_pages[code].append(page.text)"
   ]
  },
  {
   "cell_type": "code",
   "execution_count": null,
   "metadata": {},
   "outputs": [],
   "source": [
    "# Extract course & section numbers from first page\n",
    "courses = []\n",
    "for course_code, pages in course_pages.items():\n",
    "    soup_1 = BeautifulSoup(pages[0])\n",
    "    courses.extend([course for course in extract_course_info(soup_1)])\n",
    "    more_pages = list(get_more_results(soup_1, params, course_code))\n",
    "    if more_pages:\n",
    "        courses.extend([course for page in more_pages\n",
    "                       for course in extract_course_info(BeautifulSoup(page))])"
   ]
  },
  {
   "cell_type": "code",
   "execution_count": null,
   "metadata": {},
   "outputs": [],
   "source": [
    "def extract_course_info(soup):\n",
    "    listings = soup.find_all('tr', class_=\"crseRow1\")\n",
    "    for listing in listings:\n",
    "        course = {'code': course_code}\n",
    "        info = listing.find_all('td')\n",
    "        # Course number should reside under the 3rd table element, in the <a> tag\n",
    "        course['number'] = info[2].a.text.strip()\n",
    "        # Course section is in the fourth element\n",
    "        course['section'] = info[3].text.strip()\n",
    "        # Title and instructor are in the fifth and seventh elements\n",
    "        course['title'] = info[4].text.strip()\n",
    "        course['instructor'] = info[6].text.strip()\n",
    "        yield course"
   ]
  },
  {
   "cell_type": "code",
   "execution_count": null,
   "metadata": {},
   "outputs": [],
   "source": [
    "# Additional results for a given department may be on subsequent pages\n",
    "# Identify any pages that have links to more results\n",
    "def get_more_results(soup, params, course_code):\n",
    "    pages = {t.text for t in soup.find_all('a', href=re.compile('javascript:goToPage')) if t.text != '1'}\n",
    "    if pages:\n",
    "        for page in pages:\n",
    "            params['subjid'] = course_code\n",
    "            r = requests.post(course_url, \n",
    "                              params=params, \n",
    "                              headers={'Content-Type': 'application/x-www-form-urlencoded'}, \n",
    "                              data=f\"pageNum={page}\")\n",
    "            if r. status_code == 200:\n",
    "                yield r.text"
   ]
  },
  {
   "cell_type": "markdown",
   "metadata": {},
   "source": [
    "### Retrieving records from the GW Bookstore for each course"
   ]
  },
  {
   "cell_type": "code",
   "execution_count": 62,
   "metadata": {},
   "outputs": [],
   "source": [
    "bkst_base_url = config['bookstore_url']\n",
    "bkst_headers = {'User-Agent': 'Mozilla/5.0 (Macintosh; Intel Mac OS X 10.15; rv:109.0) Gecko/20100101 Firefox/113.0',\n",
    "             'Accept': 'application/json, text/plain, */*',\n",
    "             'Content-Type': 'application/json'}"
   ]
  },
  {
   "cell_type": "code",
   "execution_count": 63,
   "metadata": {},
   "outputs": [],
   "source": [
    "def create_bkst_payload(course_data, term_id):\n",
    "    return {'bookstoreId': config['bookstore_id'],\n",
    "            'courses':[{'courseDisplayName': course['number'],\n",
    "                       'departmentDisplayName': course['code'],\n",
    "                       'sectionDisplayName': course['section']}\n",
    "                      for course in course_data],\n",
    "            'termId': term_id}"
   ]
  },
  {
   "cell_type": "code",
   "execution_count": 64,
   "metadata": {},
   "outputs": [],
   "source": [
    "bkst_data = []"
   ]
  },
  {
   "cell_type": "code",
   "execution_count": null,
   "metadata": {},
   "outputs": [],
   "source": [
    "courses_list = deepcopy(courses)"
   ]
  },
  {
   "cell_type": "code",
   "execution_count": 65,
   "metadata": {},
   "outputs": [],
   "source": [
    "with open('../data/gw-courses-mc-202302.json') as f:\n",
    "    courses = json.load(f)"
   ]
  },
  {
   "cell_type": "code",
   "execution_count": 107,
   "metadata": {},
   "outputs": [],
   "source": [
    "from time import sleep"
   ]
  },
  {
   "cell_type": "code",
   "execution_count": 121,
   "metadata": {},
   "outputs": [
    {
     "name": "stdout",
     "output_type": "stream",
     "text": [
      "Captcha detected\n"
     ]
    },
    {
     "ename": "KeyboardInterrupt",
     "evalue": "",
     "output_type": "error",
     "traceback": [
      "\u001b[0;31m---------------------------------------------------------------------------\u001b[0m",
      "\u001b[0;31mKeyboardInterrupt\u001b[0m                         Traceback (most recent call last)",
      "\u001b[0;32m<ipython-input-121-2049f005d09f>\u001b[0m in \u001b[0;36m<module>\u001b[0;34m\u001b[0m\n\u001b[1;32m      7\u001b[0m         \u001b[0mprint\u001b[0m\u001b[0;34m(\u001b[0m\u001b[0;34m\"Captcha detected\"\u001b[0m\u001b[0;34m)\u001b[0m\u001b[0;34m\u001b[0m\u001b[0;34m\u001b[0m\u001b[0m\n\u001b[1;32m      8\u001b[0m         \u001b[0;31m#break\u001b[0m\u001b[0;34m\u001b[0m\u001b[0;34m\u001b[0m\u001b[0;34m\u001b[0m\u001b[0m\n\u001b[0;32m----> 9\u001b[0;31m         \u001b[0msleep\u001b[0m\u001b[0;34m(\u001b[0m\u001b[0;36m360\u001b[0m\u001b[0;34m)\u001b[0m\u001b[0;34m\u001b[0m\u001b[0;34m\u001b[0m\u001b[0m\n\u001b[0m\u001b[1;32m     10\u001b[0m     \u001b[0;32melse\u001b[0m\u001b[0;34m:\u001b[0m\u001b[0;34m\u001b[0m\u001b[0;34m\u001b[0m\u001b[0m\n\u001b[1;32m     11\u001b[0m         \u001b[0mbkst_data\u001b[0m\u001b[0;34m.\u001b[0m\u001b[0mappend\u001b[0m\u001b[0;34m(\u001b[0m\u001b[0mresp_j\u001b[0m\u001b[0;34m)\u001b[0m\u001b[0;34m\u001b[0m\u001b[0;34m\u001b[0m\u001b[0m\n",
      "\u001b[0;31mKeyboardInterrupt\u001b[0m: "
     ]
    }
   ],
   "source": [
    "while courses:\n",
    "    course = courses[0]\n",
    "    payload = create_bkst_payload([course], params['termid'])\n",
    "    r = requests.post(bkst_base_url, headers=bkst_headers, json=payload)\n",
    "    resp_j = r.json()\n",
    "    if 'blockScript' in resp_j:\n",
    "        print(\"Captcha detected\")\n",
    "        #break\n",
    "        sleep(360)\n",
    "    else:\n",
    "        bkst_data.append(resp_j)\n",
    "        courses.pop(0)"
   ]
  },
  {
   "cell_type": "code",
   "execution_count": 122,
   "metadata": {},
   "outputs": [
    {
     "data": {
      "text/plain": [
       "1152"
      ]
     },
     "execution_count": 122,
     "metadata": {},
     "output_type": "execute_result"
    }
   ],
   "source": [
    "len(courses)"
   ]
  },
  {
   "cell_type": "code",
   "execution_count": 123,
   "metadata": {},
   "outputs": [
    {
     "data": {
      "text/plain": [
       "98"
      ]
     },
     "execution_count": 123,
     "metadata": {},
     "output_type": "execute_result"
    }
   ],
   "source": [
    "len(bkst_data)"
   ]
  },
  {
   "cell_type": "code",
   "execution_count": 124,
   "metadata": {},
   "outputs": [],
   "source": [
    "#with open(f'../data/gw-courses-mc-{params[\"termid\"]}.json', 'w') as f:\n",
    "#    json.dump(courses_list, f)\n",
    "with open(f'../data/gw-books-mc-{params[\"termid\"]}-{datetime.now().isoformat()}.json', 'w') as f:\n",
    "    json.dump(bkst_data, f)"
   ]
  },
  {
   "cell_type": "markdown",
   "metadata": {},
   "source": [
    "### Parsing GW Bookstore data"
   ]
  },
  {
   "cell_type": "code",
   "execution_count": null,
   "metadata": {},
   "outputs": [],
   "source": [
    "with open(f'../data/gw-books-mc-202302-2023-05-30T16:15:13.357706.json') as f:\n",
    "    bkst_data = json.load(f)"
   ]
  },
  {
   "cell_type": "code",
   "execution_count": null,
   "metadata": {},
   "outputs": [],
   "source": [
    "# Length(s) of list for each result\n",
    "{len(c) for c in bkst_data}"
   ]
  },
  {
   "cell_type": "code",
   "execution_count": null,
   "metadata": {},
   "outputs": [],
   "source": [
    "# Length(s) of course section for each result\n",
    "{len(c[0]['courseSectionDTO']) for c in bkst_data}"
   ]
  },
  {
   "cell_type": "code",
   "execution_count": null,
   "metadata": {},
   "outputs": [],
   "source": [
    "# Courses with books have this key\n",
    "with_books = [c for c in bkst_data if c[0]['courseSectionDTO'][0].get('courseMaterialResultsList')]"
   ]
  },
  {
   "cell_type": "code",
   "execution_count": null,
   "metadata": {},
   "outputs": [],
   "source": [
    "with_books[1][0]['courseSectionDTO'][0].keys()"
   ]
  },
  {
   "cell_type": "code",
   "execution_count": null,
   "metadata": {},
   "outputs": [],
   "source": [
    "# This key contains an indication of which books are required vs. recommended\n",
    "{k for book in with_books\n",
    "     for k in book[0]['courseSectionDTO'][0]['sectionAdoptionDTO']['materialAdoptions'].keys()}"
   ]
  },
  {
   "cell_type": "code",
   "execution_count": null,
   "metadata": {},
   "outputs": [],
   "source": [
    "# Keys for item types (e vs print)\n",
    "{k for book in with_books\n",
    "    for r in book[0]['courseSectionDTO'][0]['courseMaterialResultsList']\n",
    "    for  k in r.keys() if k.endswith('ItemDTOs')}"
   ]
  },
  {
   "cell_type": "code",
   "execution_count": null,
   "metadata": {},
   "outputs": [],
   "source": [
    "# Keys for item subtypes (new. used, etc.)\n",
    "{k for book in with_books\n",
    "    for r in book[0]['courseSectionDTO'][0]['courseMaterialResultsList']\n",
    "    for k in r.get('printItemDTOs', {})\n",
    "}"
   ]
  },
  {
   "cell_type": "code",
   "execution_count": null,
   "metadata": {},
   "outputs": [],
   "source": [
    "# Keys for extraction from bookstore JSON\n",
    "top_keys = ['storeId', # int\n",
    "           'storeNumber', # str\n",
    "           'storeDisplayName', # str\n",
    "           'currency', # str\n",
    "           'requirementTypeLabelMap', # dict\n",
    "           'courseSectionDTO']  # list \n",
    "course_section_keys = ['courseSectionStatus', # dict\n",
    "                      'termId', # str\n",
    "                       'termName', # str\n",
    "                       'termNumber', # str\n",
    "                       'termStatus', # str\n",
    "                       'termOpen', # bool\n",
    "                       'programId', # str\n",
    "                       'programName', # str\n",
    "                       'campusId', # str\n",
    "                       'campusName', # str\n",
    "                       'institutionName', # str\n",
    "                       'department', # str\n",
    "                       'course', # str\n",
    "                       'section', # str\n",
    "                       'courseId', # str\n",
    "                       'instructor', # str\n",
    "                       'courseMaterialResultsList'] # list of dicts\n",
    "course_materials_keys = ['title', # str\n",
    "                        'edition', # str\n",
    "                         'author', # str\n",
    "                         'isbn',  # str\n",
    "                         'materialType', # str\n",
    "                         'requirementType', # str\n",
    "                         'isPackage', # bool\n",
    "                         'publisherCode', # str\n",
    "                         'copyRightYear', # str\n",
    "                         'publisher', # str\n",
    "                         'priceRangeDisplay' # str\n",
    "                         ,'digitalItemDTOs', # list\n",
    "                         'printItemDTOs']  # dict\n",
    "# dict\n",
    "print_item_keys = ['BUY_NEW', 'BUY_USED', 'RENTAL_NEW', 'RENTAL_USED']\n",
    "# dict\n",
    "print_item_subkeys = ['typeCondition', 'priceDisplay', 'inventoryStatusDB',\n",
    "                     'binding', 'priceNumeric', 'nonRentalChargesTotal', \n",
    "                      'nonRentalBreakageCharge', 'nonRentalRestockingFee'] \n",
    "# list of dict\n",
    "digital_item_keys = ['subscription', 'typeCondition', 'priceDisplay', 'priceNumeric'] # subscription is optional key"
   ]
  },
  {
   "cell_type": "code",
   "execution_count": null,
   "metadata": {},
   "outputs": [],
   "source": [
    "def clean_course_material(material):\n",
    "    '''Reduces a dict of info about a specific course material'''\n",
    "    cleaned_material = {k: v for k,v in material.items() if k in course_materials_keys}\n",
    "    # clean the inner list or dict of items\n",
    "    for i, item in enumerate(cleaned_material.get('digitalItemDTOs', [])):\n",
    "        cleaned_item = clean_digital_item(item)\n",
    "        cleaned_material['digitalItemDTOs'][i] = cleaned_item\n",
    "    for k, v in cleaned_material.get('printItemDTOs', {}).items():\n",
    "        cleaned_material['printItemDTOs'][k] = clean_print_item(v)\n",
    "    return cleaned_material\n",
    "def clean_print_item(item):\n",
    "    '''Reduces a dict of info about a specific print item for sale'''\n",
    "    return {k: v for k, v in item.items() if k in print_item_subkeys}\n",
    "def clean_digital_item(item):\n",
    "    '''Reduces a dict of info about a specific digital item for sale'''\n",
    "    return {k: v for k,v in item.items() if k in digital_item_keys}"
   ]
  },
  {
   "cell_type": "code",
   "execution_count": null,
   "metadata": {},
   "outputs": [],
   "source": [
    "bkst_data_cleaned = []\n",
    "for d in bkst_data:\n",
    "    d1 = {k: v for k,v in d[0].items() if k in top_keys}  # Top level elements present in all records\n",
    "    # Reduce dictionaries in course section data\n",
    "    d1['courseSectionDTO'] = [{k: v  for k,v in s.items() if k in course_section_keys} # elements present in all course-section blocks \n",
    "                               for s in d1['courseSectionDTO']]            \n",
    "    for i, section in enumerate(d1['courseSectionDTO']):\n",
    "        for j, material in enumerate(section.get('courseMaterialResultsList', [])):\n",
    "            d1['courseSectionDTO'][i]['courseMaterialResultsList'][j] = clean_course_material(material)\n",
    "    bkst_data_cleaned.append(d1)"
   ]
  },
  {
   "cell_type": "code",
   "execution_count": null,
   "metadata": {},
   "outputs": [],
   "source": [
    "with_books_cleaned = [c for c in bkst_data_cleaned if c['courseSectionDTO'][0].get('courseMaterialResultsList')]"
   ]
  },
  {
   "cell_type": "code",
   "execution_count": null,
   "metadata": {},
   "outputs": [],
   "source": [
    "with open('../data/bookstore-data-cleaned.json', 'w') as f:\n",
    "    json.dump(bkst_data_cleaned, f)"
   ]
  },
  {
   "cell_type": "code",
   "execution_count": null,
   "metadata": {},
   "outputs": [],
   "source": [
    "assert len(with_books) == len(with_books_cleaned)"
   ]
  },
  {
   "cell_type": "markdown",
   "metadata": {},
   "source": [
    "#### Cleaning the data further"
   ]
  },
  {
   "cell_type": "code",
   "execution_count": null,
   "metadata": {},
   "outputs": [],
   "source": [
    "with open('../data/bookstore-data-cleaned.json') as f:\n",
    "    bkst_data = json.load(f)"
   ]
  },
  {
   "cell_type": "code",
   "execution_count": null,
   "metadata": {},
   "outputs": [],
   "source": [
    "# This inner is list is always length 1, so we can reduce it to its inner dict\n",
    "len([b for b in bkst_data if len(b['courseSectionDTO']) > 1])"
   ]
  },
  {
   "cell_type": "code",
   "execution_count": null,
   "metadata": {},
   "outputs": [],
   "source": [
    "bkst_data_cleaned = []\n",
    "for b in bkst_data:\n",
    "    b['courseSection'] = b['courseSectionDTO'][0]\n",
    "    del b['courseSectionDTO']\n",
    "    bkst_data_cleaned.append(b)"
   ]
  },
  {
   "cell_type": "code",
   "execution_count": null,
   "metadata": {},
   "outputs": [],
   "source": [
    "# Shortening key names for useful items and removing some extraneous keys\n",
    "for b in bkst_data_cleaned:\n",
    "    del b['courseSection']['courseSectionStatus']\n",
    "    section = b['courseSection']\n",
    "    if 'courseMaterialResultsList' in section:\n",
    "        section['courseMaterials'] = section['courseMaterialResultsList']\n",
    "        del section['courseMaterialResultsList']\n",
    "        for m in section['courseMaterials']:\n",
    "            if 'printItemDTOs' in m:\n",
    "                m['printItems'] = m['printItemDTOs']\n",
    "                del m['printItemDTOs']\n",
    "            if 'digitalItemDTOs' in m:\n",
    "                m['digitalItems'] = m['digitalItemDTOs']\n",
    "                del m['digitalItemDTOs']"
   ]
  },
  {
   "cell_type": "code",
   "execution_count": null,
   "metadata": {},
   "outputs": [],
   "source": [
    "with open('../data/bookstore-data-cleaned.json', 'w') as f:\n",
    "    json.dump(bkst_data_cleaned, f)"
   ]
  },
  {
   "cell_type": "markdown",
   "metadata": {},
   "source": [
    "#### Creating a simplified, uniform dataset"
   ]
  },
  {
   "cell_type": "code",
   "execution_count": null,
   "metadata": {},
   "outputs": [],
   "source": [
    "with open('../data/bookstore-data-cleaned.json') as f:\n",
    "    bkst_data = json.load(f)"
   ]
  },
  {
   "cell_type": "code",
   "execution_count": null,
   "metadata": {},
   "outputs": [],
   "source": [
    "with_books = [b for b in bkst_data if b['courseSection'].get('courseMaterials')]"
   ]
  },
  {
   "cell_type": "code",
   "execution_count": null,
   "metadata": {},
   "outputs": [],
   "source": [
    "course_keys = ['department', 'course', 'section', 'instructor', 'termName']\n",
    "book_keys = ['title', 'author', 'edition', 'isbn', 'materialType', 'requirementType',\n",
    "            'copyRightYear', 'publisher']\n",
    "item_keys = ['typeCondition', 'priceDisplay']\n"
   ]
  },
  {
   "cell_type": "code",
   "execution_count": null,
   "metadata": {},
   "outputs": [],
   "source": [
    "simplified = []\n",
    "for course in bkst_data:\n",
    "    course_data = {k: course['courseSection'].get(k) for k in course_keys} \n",
    "    books = []\n",
    "    for book in course['courseSection'].get('courseMaterials',[]):\n",
    "        book_data = {k: book.get(k) for k in book_keys}\n",
    "        for item in book.get('printItems', {}).values():\n",
    "            book_item = deepcopy(book_data)\n",
    "            book_item.update({k: item[k] for k in item_keys})\n",
    "            book_item['itemType'] = 'print'\n",
    "            books.append(book_item)\n",
    "        for item in book.get('digitalItems', []):\n",
    "            book_item = deepcopy(book_data)\n",
    "            book_item.update({k: item[k] for k in item_keys})\n",
    "            book_item['itemType'] = 'digital'\n",
    "            books.append(book_item)\n",
    "    course_data['texts'] = books\n",
    "    simplified.append(course_data)"
   ]
  },
  {
   "cell_type": "code",
   "execution_count": null,
   "metadata": {},
   "outputs": [],
   "source": [
    "# Convert camel case to snake case \n",
    "case_convert = re.compile(r'(?<!^)(?=[A-Z])')\n",
    "def camel_to_snake(item):\n",
    "    '''\n",
    "    :param item: should be a dictionary\n",
    "    Will recurse for nested lists of dicts\n",
    "    '''\n",
    "    if isinstance(item, dict):\n",
    "        new_dict = {}\n",
    "        for key, value in item.items():\n",
    "            new_key = re.sub(case_convert, '_', key).lower()\n",
    "            if isinstance(value, list):\n",
    "                new_dict[new_key] = [camel_to_snake(v) for v in value]\n",
    "            else:\n",
    "                new_dict[new_key] = value\n",
    "        return new_dict"
   ]
  },
  {
   "cell_type": "code",
   "execution_count": null,
   "metadata": {},
   "outputs": [],
   "source": [
    "simplified = [camel_to_snake(s) for s in simplified]"
   ]
  },
  {
   "cell_type": "code",
   "execution_count": null,
   "metadata": {},
   "outputs": [],
   "source": [
    "with open('../data/bookstore-data-simplified.json', 'w') as f:\n",
    "    json.dump(simplified, f)"
   ]
  }
 ],
 "metadata": {
  "kernelspec": {
   "display_name": "Python 3",
   "language": "python",
   "name": "python3"
  },
  "language_info": {
   "codemirror_mode": {
    "name": "ipython",
    "version": 3
   },
   "file_extension": ".py",
   "mimetype": "text/x-python",
   "name": "python",
   "nbconvert_exporter": "python",
   "pygments_lexer": "ipython3",
   "version": "3.8.5"
  }
 },
 "nbformat": 4,
 "nbformat_minor": 4
}
